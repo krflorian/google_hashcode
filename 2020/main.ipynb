{
 "cells": [
  {
   "cell_type": "code",
   "execution_count": null,
   "outputs": [],
   "source": [],
   "metadata": {
    "collapsed": false,
    "pycharm": {
     "name": "#%% \n"
    }
   }
  },
  {
   "cell_type": "code",
   "execution_count": 2,
   "outputs": [],
   "source": [
    "import numpy as np\n",
    "import pandas as pd"
   ],
   "metadata": {
    "collapsed": false,
    "pycharm": {
     "name": "#%%\n",
     "is_executing": false
    }
   }
  },
  {
   "cell_type": "code",
   "execution_count": 10,
   "outputs": [],
   "source": [
    "content = None\n",
    "\n",
    "with open('data/a_example.txt') as f:\n",
    "    line1 = f.readline()\n",
    "    line2 = f.readline()\n",
    "    content = f.readlines()\n",
    "    \n"
   ],
   "metadata": {
    "collapsed": false,
    "pycharm": {
     "name": "#%%\n",
     "is_executing": false
    }
   }
  },
  {
   "cell_type": "code",
   "execution_count": 11,
   "outputs": [
    {
     "name": "stdout",
     "text": [
      "['5 2 2\\n', '0 1 2 3 4\\n', '4 3 1\\n', '0 2 3 5\\n']\n"
     ],
     "output_type": "stream"
    }
   ],
   "source": [
    "print(content)\n"
   ],
   "metadata": {
    "collapsed": false,
    "pycharm": {
     "name": "#%%\n",
     "is_executing": false
    }
   }
  },
  {
   "cell_type": "code",
   "execution_count": 12,
   "outputs": [
    {
     "name": "stdout",
     "text": [
      "6 2 7\n\n"
     ],
     "output_type": "stream"
    }
   ],
   "source": [
    "print(line1)"
   ],
   "metadata": {
    "collapsed": false,
    "pycharm": {
     "name": "#%%\n",
     "is_executing": false
    }
   }
  },
  {
   "cell_type": "code",
   "execution_count": 13,
   "outputs": [
    {
     "name": "stdout",
     "text": [
      "1 2 3 6 5 4\n\n"
     ],
     "output_type": "stream"
    }
   ],
   "source": [
    "print(line2)"
   ],
   "metadata": {
    "collapsed": false,
    "pycharm": {
     "name": "#%%\n",
     "is_executing": false
    }
   }
  },
  {
   "cell_type": "code",
   "execution_count": 16,
   "outputs": [],
   "source": [
    "# fist lines\n",
    "parts = [int(s) for s in line1.split(' ')]\n",
    "\n",
    "bookNumber = parts[0]\n",
    "libraryNumber = parts[1]\n",
    "daysForScanning = parts[2]\n",
    "\n",
    "bookScores = [int(s) for s in line2.split(' ')]\n",
    "\n",
    "\n"
   ],
   "metadata": {
    "collapsed": false,
    "pycharm": {
     "name": "#%%\n",
     "is_executing": false
    }
   }
  },
  {
   "cell_type": "code",
   "execution_count": 20,
   "outputs": [
    {
     "name": "stdout",
     "text": [
      "[0, 1, 2, 3, 4]\n[0, 2, 3, 5]\n"
     ],
     "output_type": "stream"
    }
   ],
   "source": [
    "\n",
    "for i in range(0, libraryNumber*2, 2):\n",
    "    parts = [int(s) for s in content[i].split(' ')]\n",
    "    \n",
    "    libBooksNumber = parts[0]\n",
    "    libSignUpTime = parts[1]\n",
    "    libBookPerDay = parts[2]\n",
    "\n",
    "    libBookIds = [int(s) for s in content[i + 1].split(' ')]\n",
    "\n",
    "    print(libBookIds)\n",
    "    \n",
    "\n",
    "\n",
    "\n",
    "    \n",
    "    \n",
    "\n"
   ],
   "metadata": {
    "collapsed": false,
    "pycharm": {
     "name": "#%%\n",
     "is_executing": false
    }
   }
  }
 ],
 "metadata": {
  "language_info": {
   "codemirror_mode": {
    "name": "ipython",
    "version": 2
   },
   "file_extension": ".py",
   "mimetype": "text/x-python",
   "name": "python",
   "nbconvert_exporter": "python",
   "pygments_lexer": "ipython2",
   "version": "2.7.6"
  },
  "kernelspec": {
   "name": "python3",
   "language": "python",
   "display_name": "Python 3"
  },
  "pycharm": {
   "stem_cell": {
    "cell_type": "raw",
    "source": [],
    "metadata": {
     "collapsed": false
    }
   }
  }
 },
 "nbformat": 4,
 "nbformat_minor": 0
}